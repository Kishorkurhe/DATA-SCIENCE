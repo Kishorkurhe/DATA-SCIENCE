{
 "cells": [
  {
   "cell_type": "code",
   "execution_count": 6,
   "id": "b1897a01-4261-473e-a4b2-8801d60a9bc9",
   "metadata": {},
   "outputs": [],
   "source": [
    "class pwskills:\n",
    "    def __init__(self,name,mail):\n",
    "        self.name=name\n",
    "        self.mail=mail\n",
    "        \n",
    "    def student_details(self):\n",
    "        print(self.name,self.mail)"
   ]
  },
  {
   "cell_type": "code",
   "execution_count": 7,
   "id": "dedcc6c5-701d-4a0e-8480-634020261ec2",
   "metadata": {},
   "outputs": [],
   "source": [
    "pw=pwskills(\"kishor\",\"kk@gmail.com\")"
   ]
  },
  {
   "cell_type": "code",
   "execution_count": 8,
   "id": "220fe9f3-0be3-44da-9925-8a495b556b35",
   "metadata": {},
   "outputs": [
    {
     "data": {
      "text/plain": [
       "'kishor'"
      ]
     },
     "execution_count": 8,
     "metadata": {},
     "output_type": "execute_result"
    }
   ],
   "source": [
    "pw.name"
   ]
  },
  {
   "cell_type": "code",
   "execution_count": 9,
   "id": "66015f50-d75c-4daf-b8a3-3aea444ad16d",
   "metadata": {},
   "outputs": [
    {
     "data": {
      "text/plain": [
       "<bound method pwskills.student_details of <__main__.pwskills object at 0x7ff689588580>>"
      ]
     },
     "execution_count": 9,
     "metadata": {},
     "output_type": "execute_result"
    }
   ],
   "source": [
    "pw.student_details"
   ]
  },
  {
   "cell_type": "code",
   "execution_count": 10,
   "id": "befed2da-8f33-4923-8100-443e30ca826d",
   "metadata": {},
   "outputs": [
    {
     "name": "stdout",
     "output_type": "stream",
     "text": [
      "kishor kk@gmail.com\n"
     ]
    }
   ],
   "source": [
    "pw.student_details()"
   ]
  },
  {
   "cell_type": "code",
   "execution_count": 11,
   "id": "76d3573d-90f8-4283-a205-e41fb744fb9e",
   "metadata": {},
   "outputs": [
    {
     "data": {
      "text/plain": [
       "'kk@gmail.com'"
      ]
     },
     "execution_count": 11,
     "metadata": {},
     "output_type": "execute_result"
    }
   ],
   "source": [
    "pw.mail"
   ]
  },
  {
   "cell_type": "code",
   "execution_count": 13,
   "id": "5a0225ae-cf31-4b52-ba94-0091a91bf2e8",
   "metadata": {},
   "outputs": [],
   "source": [
    "class pwskills1:\n",
    "    def __init__(self,name,mail):\n",
    "        self.name=name\n",
    "        self.mail=mail\n",
    "    @classmethod    \n",
    "    def details(cls,name,mail) :   \n",
    "        return cls(name,mail)\n",
    "    \n",
    "    def student_details(self):\n",
    "        print(self.name,self.mail)"
   ]
  },
  {
   "cell_type": "code",
   "execution_count": 15,
   "id": "c59182a4-4280-43f7-a791-72f70a7ef12d",
   "metadata": {},
   "outputs": [],
   "source": [
    "pw1=pwskills1.details(\"sanket\",\"ku@mail.com\")"
   ]
  },
  {
   "cell_type": "code",
   "execution_count": 16,
   "id": "9425073d-c3df-4662-a302-587e1b23c720",
   "metadata": {},
   "outputs": [
    {
     "data": {
      "text/plain": [
       "'sanket'"
      ]
     },
     "execution_count": 16,
     "metadata": {},
     "output_type": "execute_result"
    }
   ],
   "source": [
    "pw1.name"
   ]
  },
  {
   "cell_type": "code",
   "execution_count": 18,
   "id": "261ca911-1780-454d-9339-d8f6ec49ef9f",
   "metadata": {},
   "outputs": [
    {
     "name": "stdout",
     "output_type": "stream",
     "text": [
      "sanket ku@mail.com\n"
     ]
    }
   ],
   "source": [
    "pw1.student_details()"
   ]
  },
  {
   "cell_type": "code",
   "execution_count": 19,
   "id": "1d52583f-e15b-420e-8976-fa2091977382",
   "metadata": {},
   "outputs": [
    {
     "data": {
      "text/plain": [
       "'ku@mail.com'"
      ]
     },
     "execution_count": 19,
     "metadata": {},
     "output_type": "execute_result"
    }
   ],
   "source": [
    "pw1.mail\n"
   ]
  },
  {
   "cell_type": "code",
   "execution_count": 32,
   "id": "8b1ad823-adbd-4a8c-b6f8-6c6ea607e138",
   "metadata": {},
   "outputs": [],
   "source": [
    "class pwskills2:\n",
    "    mobile_number =9921399682345\n",
    "    def __init__(self,name,mail):\n",
    "        self.name=name\n",
    "        self.mail=mail\n",
    "    @classmethod\n",
    "    def change_number(cls,mobile):\n",
    "        pwskills2.mobile_number=mobile\n",
    "    @classmethod    \n",
    "    def details(cls,name,mail) :   \n",
    "        return cls(name,mail)\n",
    "    \n",
    "    def student_details(self):\n",
    "        print(self.name,self.mail,pwskills2.mobile_number)"
   ]
  },
  {
   "cell_type": "code",
   "execution_count": 42,
   "id": "32bb8832-7f12-4cb5-b12e-45b6429a38b3",
   "metadata": {},
   "outputs": [],
   "source": [
    "pw2_obj=pwskills2(\"opjkfkj\",\"mail.com\")"
   ]
  },
  {
   "cell_type": "code",
   "execution_count": 43,
   "id": "79ebd6e1-92fc-4a0e-ae1f-a5eae102215c",
   "metadata": {},
   "outputs": [
    {
     "data": {
      "text/plain": [
       "<__main__.pwskills2 at 0x7ff688de3250>"
      ]
     },
     "execution_count": 43,
     "metadata": {},
     "output_type": "execute_result"
    }
   ],
   "source": [
    "pw2"
   ]
  },
  {
   "cell_type": "code",
   "execution_count": 45,
   "id": "dbfd5b33-b88e-4ae9-a1f2-e96278deaf3a",
   "metadata": {},
   "outputs": [
    {
     "data": {
      "text/plain": [
       "<bound method pwskills2.details of <class '__main__.pwskills2'>>"
      ]
     },
     "execution_count": 45,
     "metadata": {},
     "output_type": "execute_result"
    }
   ],
   "source": [
    "pw2_obj.details"
   ]
  },
  {
   "cell_type": "code",
   "execution_count": 46,
   "id": "4695236d-d6f9-4fcd-bc53-adbeea3459d3",
   "metadata": {},
   "outputs": [
    {
     "data": {
      "text/plain": [
       "'kk'"
      ]
     },
     "execution_count": 46,
     "metadata": {},
     "output_type": "execute_result"
    }
   ],
   "source": [
    "pw2.name"
   ]
  },
  {
   "cell_type": "code",
   "execution_count": 33,
   "id": "e0f4bcfb-7147-418f-8c19-49d9e98ef875",
   "metadata": {},
   "outputs": [
    {
     "data": {
      "text/plain": [
       "9921399682345"
      ]
     },
     "execution_count": 33,
     "metadata": {},
     "output_type": "execute_result"
    }
   ],
   "source": [
    "pwskills2.mobile_number"
   ]
  },
  {
   "cell_type": "code",
   "execution_count": 34,
   "id": "639a2a8c-0b0b-40da-a017-76612a5e7300",
   "metadata": {},
   "outputs": [],
   "source": [
    "pw2=pwskills2.details(\"kk\",\"pk@mail.com\")"
   ]
  },
  {
   "cell_type": "code",
   "execution_count": 35,
   "id": "4f319956-4e75-47f6-afd3-21d91dc873a9",
   "metadata": {},
   "outputs": [
    {
     "data": {
      "text/plain": [
       "'pk@mail.com'"
      ]
     },
     "execution_count": 35,
     "metadata": {},
     "output_type": "execute_result"
    }
   ],
   "source": [
    "pw2.mail"
   ]
  },
  {
   "cell_type": "code",
   "execution_count": 36,
   "id": "8d96d329-1f63-4006-a903-2f930361ef43",
   "metadata": {},
   "outputs": [
    {
     "data": {
      "text/plain": [
       "9921399682345"
      ]
     },
     "execution_count": 36,
     "metadata": {},
     "output_type": "execute_result"
    }
   ],
   "source": [
    "pw2.mobile_number"
   ]
  },
  {
   "cell_type": "code",
   "execution_count": 37,
   "id": "d16a25ce-b761-4149-b487-4de4b4000fd0",
   "metadata": {},
   "outputs": [],
   "source": [
    "pwskills2.change_number(8888521682)"
   ]
  },
  {
   "cell_type": "code",
   "execution_count": 41,
   "id": "b95cc9c0-09d9-43e7-bb91-9d68a2ed0143",
   "metadata": {},
   "outputs": [
    {
     "data": {
      "text/plain": [
       "<bound method pwskills2.change_number of <class '__main__.pwskills2'>>"
      ]
     },
     "execution_count": 41,
     "metadata": {},
     "output_type": "execute_result"
    }
   ],
   "source": [
    "pwskills2.change_number"
   ]
  },
  {
   "cell_type": "code",
   "execution_count": 48,
   "id": "567ee8ed-1c42-4bd0-8753-cacd855badc3",
   "metadata": {},
   "outputs": [],
   "source": [
    "del pwskills2.change_number"
   ]
  },
  {
   "cell_type": "code",
   "execution_count": null,
   "id": "54c5ac9a-0efa-4c2c-b80d-16dcdfc7b5fc",
   "metadata": {},
   "outputs": [],
   "source": [
    "pwskills2."
   ]
  }
 ],
 "metadata": {
  "kernelspec": {
   "display_name": "Python 3 (ipykernel)",
   "language": "python",
   "name": "python3"
  },
  "language_info": {
   "codemirror_mode": {
    "name": "ipython",
    "version": 3
   },
   "file_extension": ".py",
   "mimetype": "text/x-python",
   "name": "python",
   "nbconvert_exporter": "python",
   "pygments_lexer": "ipython3",
   "version": "3.10.8"
  }
 },
 "nbformat": 4,
 "nbformat_minor": 5
}
