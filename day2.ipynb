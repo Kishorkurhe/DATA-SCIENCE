{
 "cells": [
  {
   "cell_type": "code",
   "execution_count": 1,
   "id": "b17baf97-fbfe-43b0-a184-55c6537a6b41",
   "metadata": {},
   "outputs": [],
   "source": [
    "name=\"kishor\"\n",
    "age=21"
   ]
  },
  {
   "cell_type": "code",
   "execution_count": 3,
   "id": "7d987ab4-56fe-4616-aa6a-c86e8eb3da23",
   "metadata": {},
   "outputs": [
    {
     "name": "stdout",
     "output_type": "stream",
     "text": [
      "my name is kishor and my age is 21\n"
     ]
    }
   ],
   "source": [
    "print(\"my name is {} and my age is {}\".format(name,age))"
   ]
  },
  {
   "cell_type": "code",
   "execution_count": 4,
   "id": "b50429a9-2ed8-4a1e-9121-4dcdaadfc54c",
   "metadata": {},
   "outputs": [],
   "source": [
    "name=\"kishor kurhe\"\n",
    "age=21\n",
    "degree=\"B.tech\""
   ]
  },
  {
   "cell_type": "code",
   "execution_count": 5,
   "id": "f039eda7-069e-4951-b237-2b0bff669219",
   "metadata": {},
   "outputs": [
    {
     "name": "stdout",
     "output_type": "stream",
     "text": [
      "my name iskishor kurhe my age is 21 my degree is B.tech\n"
     ]
    }
   ],
   "source": [
    "print(f\"my name is {name} my age is {age} my degree is {degree}\")"
   ]
  },
  {
   "cell_type": "code",
   "execution_count": null,
   "id": "df3cccbb-30dd-495f-ad6b-1e8ed0c558b3",
   "metadata": {},
   "outputs": [],
   "source": []
  },
  {
   "cell_type": "code",
   "execution_count": 6,
   "id": "d9a1aa1c-2e4b-4bd8-ba06-37e7f7bc3da8",
   "metadata": {},
   "outputs": [
    {
     "name": "stdout",
     "output_type": "stream",
     "text": [
      "my name is kishor kurhe my age is 21 my degree is B.tech\n"
     ]
    }
   ],
   "source": [
    "print(f\"my name is {name} my age is {age} my degree is {degree}\")"
   ]
  },
  {
   "cell_type": "code",
   "execution_count": 9,
   "id": "38c0da3a-9e27-47a5-8272-e41bda41b1c0",
   "metadata": {},
   "outputs": [
    {
     "name": "stdout",
     "output_type": "stream",
     "text": [
      "my name is kishor kurhe my age is 21 my degree is B.tech\n"
     ]
    }
   ],
   "source": [
    "print(\"my name is {} my age is {} my degree is {}\".format(name,age,degree))"
   ]
  },
  {
   "cell_type": "markdown",
   "id": "e5fd8de2-6519-450d-97ae-8afa704fc24c",
   "metadata": {},
   "source": [
    "##control flow\n",
    "## decision making statement"
   ]
  },
  {
   "cell_type": "code",
   "execution_count": 18,
   "id": "78174529-fb6a-42ff-8a69-1eeac417a07f",
   "metadata": {},
   "outputs": [
    {
     "name": "stdin",
     "output_type": "stream",
     "text": [
      "Enter the number 3\n"
     ]
    }
   ],
   "source": [
    "age=int(input(\"Enter the number\"))\n",
    "if age>=18:\n",
    "    print(\"Ready to vote\")\n"
   ]
  },
  {
   "cell_type": "code",
   "execution_count": 6,
   "id": "a2812957-19a1-454b-a1cb-1cb8a5f608e9",
   "metadata": {},
   "outputs": [
    {
     "name": "stdin",
     "output_type": "stream",
     "text": [
      "Enter the number 23\n"
     ]
    },
    {
     "name": "stdout",
     "output_type": "stream",
     "text": [
      "you are young blood\n"
     ]
    }
   ],
   "source": [
    "age=int(input(\"Enter the number\"))\n",
    "if age >=18 and age <=32:\n",
    "        print(\"you are young blood\")"
   ]
  },
  {
   "cell_type": "code",
   "execution_count": 8,
   "id": "e9bb30dc-b9a3-4d51-a0a7-d1f4b960833b",
   "metadata": {},
   "outputs": [
    {
     "name": "stdin",
     "output_type": "stream",
     "text": [
      "Enter the number 23\n"
     ]
    },
    {
     "name": "stdout",
     "output_type": "stream",
     "text": [
      "you are young blood\n"
     ]
    }
   ],
   "source": [
    "age=int(input(\"Enter the number\"))\n",
    "if age >=18 and age <=32:\n",
    "        print(\"you are young blood\")\n",
    "else:\n",
    "    print(\"you are old blood\")"
   ]
  },
  {
   "cell_type": "code",
   "execution_count": null,
   "id": "8c4c9d7a-93ad-47c5-80bb-61a36c2e2a2b",
   "metadata": {},
   "outputs": [],
   "source": [
    "money=int(input(\"Enter the number\"))\n",
    "if money>=1000:\n",
    "    print(f\"you by the product and get 10% off price is{money}\")\n",
    "    \n",
    "          "
   ]
  },
  {
   "cell_type": "code",
   "execution_count": 5,
   "id": "3c7dc9d7-4b13-44fc-9146-23fc001e7dc7",
   "metadata": {},
   "outputs": [
    {
     "name": "stdin",
     "output_type": "stream",
     "text": [
      "Enter the number 5000\n"
     ]
    },
    {
     "name": "stdout",
     "output_type": "stream",
     "text": [
      "The price of the product is 4000.0\n"
     ]
    }
   ],
   "source": [
    "product_price=int(input(\"Enter the number\"))\n",
    "if product_price>1000:\n",
    "    print(\"The price of the product is {}\".format(product_price*0.8))\n",
    "else:\n",
    "    print(\"The price of the product is {}\".format(product_price*0.7))"
   ]
  },
  {
   "cell_type": "code",
   "execution_count": 6,
   "id": "5f5eedac-6b24-4b48-9b30-ad55c25d50ea",
   "metadata": {},
   "outputs": [
    {
     "data": {
      "text/plain": [
       "0.2"
      ]
     },
     "execution_count": 6,
     "metadata": {},
     "output_type": "execute_result"
    }
   ],
   "source": [
    "20/100\n"
   ]
  },
  {
   "cell_type": "code",
   "execution_count": 7,
   "id": "00eb9797-b4e4-45f6-8627-7db8142e2faa",
   "metadata": {},
   "outputs": [
    {
     "data": {
      "text/plain": [
       "1000.0"
      ]
     },
     "execution_count": 7,
     "metadata": {},
     "output_type": "execute_result"
    }
   ],
   "source": [
    "5000*0.2"
   ]
  },
  {
   "cell_type": "code",
   "execution_count": 5,
   "id": "e4d55abe-ceff-4243-9e6b-600ceecb8b42",
   "metadata": {},
   "outputs": [
    {
     "name": "stdin",
     "output_type": "stream",
     "text": [
      "Enter the number 2999\n"
     ]
    },
    {
     "name": "stdout",
     "output_type": "stream",
     "text": [
      "The price of the product is 2399.2000000000003\n"
     ]
    }
   ],
   "source": [
    "product_price=int(input(\"Enter the number\"))\n",
    "if product_price>1000:\n",
    "    print(\"The price of the product is {}\".format(product_price*0.8))\n",
    "elif product_price>=2000 and product_price<=4000:\n",
    "    if product_price==2999:\n",
    "        print(\"congratulation you got free models\")\n",
    "    print(f\"The price of the product is{product_price*0.7}\")\n",
    "else:\n",
    "    print(\"The price of the product is {}\".format(product_price*0.5))"
   ]
  },
  {
   "cell_type": "code",
   "execution_count": 9,
   "id": "435fae9d-30f7-47c6-b26d-ed2f7b6e89c5",
   "metadata": {},
   "outputs": [
    {
     "name": "stdin",
     "output_type": "stream",
     "text": [
      "Enter the number 100\n"
     ]
    },
    {
     "name": "stdout",
     "output_type": "stream",
     "text": [
      "value less than 999\n"
     ]
    }
   ],
   "source": [
    "val=int(input(\"Enter the number\"))\n",
    "if val<=999:print(\"value less than 999\")\n",
    "else:print(\"greater\")        "
   ]
  },
  {
   "cell_type": "markdown",
   "id": "3ee464a5-5541-454a-85fa-dc3fe6af3900",
   "metadata": {},
   "source": [
    "##loops statement\n",
    "1. while loop\n",
    "2. for loop\n",
    "3. nested loops\n",
    "4. loop control(break,continue,pass)"
   ]
  },
  {
   "cell_type": "code",
   "execution_count": 12,
   "id": "a41811aa-0695-41a8-8eac-8d1e3f4ff95d",
   "metadata": {},
   "outputs": [
    {
     "name": "stdout",
     "output_type": "stream",
     "text": [
      "25\n",
      "26\n",
      "27\n",
      "28\n",
      "29\n",
      "30\n",
      "31\n",
      "32\n",
      "33\n",
      "34\n",
      "35\n",
      "36\n",
      "37\n",
      "38\n",
      "39\n",
      "40\n",
      "41\n",
      "42\n",
      "43\n",
      "44\n",
      "45\n",
      "46\n",
      "47\n",
      "48\n",
      "49\n",
      "50\n",
      "51\n",
      "52\n",
      "53\n",
      "54\n",
      "55\n",
      "56\n",
      "57\n",
      "58\n",
      "59\n",
      "60\n"
     ]
    }
   ],
   "source": [
    "#while\n",
    "joining_age=25\n",
    "while joining_age<=60:\n",
    "    print(joining_age)\n",
    "    joining_age=joining_age+1"
   ]
  },
  {
   "cell_type": "code",
   "execution_count": 14,
   "id": "53317298-e574-4a09-ba91-aacd6463e02e",
   "metadata": {},
   "outputs": [
    {
     "name": "stdout",
     "output_type": "stream",
     "text": [
      "900\n",
      "800\n",
      "700\n",
      "600\n",
      "500\n",
      "400\n",
      "300\n",
      "200\n",
      "100\n",
      "0\n",
      "put more money in ATM\n"
     ]
    }
   ],
   "source": [
    "total_amount=1000\n",
    "while total_amount!=0:\n",
    "    total_amount=total_amount-100\n",
    "    print(total_amount)\n",
    "else:\n",
    "    print(\"put more money in ATM\")"
   ]
  },
  {
   "cell_type": "code",
   "execution_count": 15,
   "id": "5de7677d-b798-44e9-81f4-6789920169ed",
   "metadata": {},
   "outputs": [
    {
     "name": "stdout",
     "output_type": "stream",
     "text": [
      "1\n",
      "2\n",
      "3\n",
      "4\n",
      "5\n",
      "6\n",
      "7\n",
      "8\n",
      "9\n",
      "10\n"
     ]
    }
   ],
   "source": [
    "for i in range(1,11):\n",
    "    print(i)"
   ]
  },
  {
   "cell_type": "code",
   "execution_count": 16,
   "id": "4c9e1b89-c07e-43ea-aea6-9a81362500cb",
   "metadata": {},
   "outputs": [],
   "source": [
    "list=[\"mange\",\"banana\",\"orange\",\"onion\"]"
   ]
  },
  {
   "cell_type": "code",
   "execution_count": 17,
   "id": "9a00e48d-049e-4fb4-bdfb-9e4f21e81c13",
   "metadata": {},
   "outputs": [
    {
     "name": "stdout",
     "output_type": "stream",
     "text": [
      "mange\n",
      "banana\n",
      "orange\n",
      "i like that\n",
      "onion\n"
     ]
    }
   ],
   "source": [
    "for i in list:\n",
    "    print(i)\n",
    "    if i== \"orange\":\n",
    "        print(\"i like that\")"
   ]
  },
  {
   "cell_type": "code",
   "execution_count": 3,
   "id": "9ef33699-e2ba-4a8e-971e-df3c0077c4ad",
   "metadata": {},
   "outputs": [
    {
     "name": "stdout",
     "output_type": "stream",
     "text": [
      "m\n",
      "a\n",
      "n\n",
      "g\n",
      "o\n"
     ]
    }
   ],
   "source": [
    "fruit=\"mango\"\n",
    "for x in fruit:\n",
    "    print(x)\n"
   ]
  },
  {
   "cell_type": "code",
   "execution_count": 4,
   "id": "587ec885-7ccf-4e95-86bf-0c2a9433f812",
   "metadata": {},
   "outputs": [
    {
     "name": "stdout",
     "output_type": "stream",
     "text": [
      "mango"
     ]
    }
   ],
   "source": [
    "fruit=\"mango\"\n",
    "for x in fruit:\n",
    "    print(x,end=\"\")\n"
   ]
  },
  {
   "cell_type": "markdown",
   "id": "c373aefe-972d-4a92-b9e1-2a69115b92db",
   "metadata": {},
   "source": [
    "## nested loops"
   ]
  },
  {
   "cell_type": "code",
   "execution_count": 5,
   "id": "b661f11a-70de-4af1-9aa8-8de8a5ad44ee",
   "metadata": {},
   "outputs": [
    {
     "name": "stdout",
     "output_type": "stream",
     "text": [
      "1\n",
      "2\n",
      "3\n",
      "4\n",
      "5\n"
     ]
    }
   ],
   "source": [
    " for i in range(1,6):\n",
    "        print(i)"
   ]
  },
  {
   "cell_type": "code",
   "execution_count": 6,
   "id": "325fcd7c-e63f-4f95-a079-bfe9e21c2be8",
   "metadata": {},
   "outputs": [
    {
     "name": "stdout",
     "output_type": "stream",
     "text": [
      "1\n",
      "3\n",
      "5\n",
      "7\n",
      "9\n"
     ]
    }
   ],
   "source": [
    "for i in range(1,10,2):\n",
    "        print(i)"
   ]
  },
  {
   "cell_type": "code",
   "execution_count": 7,
   "id": "038d2dda-04f3-4a33-a93a-477089184787",
   "metadata": {},
   "outputs": [
    {
     "name": "stdout",
     "output_type": "stream",
     "text": [
      "*\n",
      "*\n",
      "*\n",
      "*\n",
      "*\n",
      "*\n",
      "*\n",
      "*\n",
      "*\n",
      "*\n",
      "*\n",
      "*\n",
      "*\n",
      "*\n",
      "*\n",
      "*\n",
      "*\n",
      "*\n",
      "*\n",
      "*\n",
      "*\n",
      "*\n",
      "*\n",
      "*\n",
      "*\n",
      "*\n",
      "*\n",
      "*\n"
     ]
    }
   ],
   "source": [
    "n=7\n",
    "for i in range(0,n):\n",
    "    for j in range(0,i+1):\n",
    "        print(\"*\",end=\"\\n\")"
   ]
  },
  {
   "cell_type": "code",
   "execution_count": 9,
   "id": "0baf4312-dc07-4b8b-9612-46269d37ff05",
   "metadata": {},
   "outputs": [
    {
     "name": "stdout",
     "output_type": "stream",
     "text": [
      "* * * * * * * * * * * * * * * * * * * * * * * * * * * * "
     ]
    }
   ],
   "source": [
    "n=7\n",
    "for i in range(0,n):\n",
    "    for j in range(0,i+1):\n",
    "        print(\"*\",end=\" \")"
   ]
  },
  {
   "cell_type": "code",
   "execution_count": 11,
   "id": "043cc556-738b-477e-8069-c1efc3917199",
   "metadata": {},
   "outputs": [
    {
     "name": "stdout",
     "output_type": "stream",
     "text": [
      "* \n",
      "* * \n",
      "* * * \n",
      "* * * * \n",
      "* * * * * \n",
      "* * * * * * \n",
      "* * * * * * * \n"
     ]
    }
   ],
   "source": [
    "n=7\n",
    "for i in range(0,n):\n",
    "    for j in range(0,i+1):\n",
    "        print(\"*\",end=\" \")\n",
    "    print(\"\\r\")    "
   ]
  },
  {
   "cell_type": "code",
   "execution_count": 14,
   "id": "4d358c36-aba7-4e9d-a755-d3b978e68650",
   "metadata": {},
   "outputs": [
    {
     "name": "stdout",
     "output_type": "stream",
     "text": [
      "* \n",
      "* * \n",
      "* * * \n",
      "* * * * \n",
      "* * * * * \n"
     ]
    }
   ],
   "source": [
    "n=5\n",
    "for i in range(n):\n",
    "    for j in range(i+1):\n",
    "        print(\"*\",end=\" \")\n",
    "    print(\"\\r\")    "
   ]
  },
  {
   "cell_type": "code",
   "execution_count": 1,
   "id": "d0838677-1f1c-4d22-aff6-7956abf14783",
   "metadata": {},
   "outputs": [],
   "source": [
    "list=[\"mange\",\"banana\",\"orange\",\"onion\"]"
   ]
  },
  {
   "cell_type": "code",
   "execution_count": 2,
   "id": "1c41959c-d201-4817-b9e7-cd6fc996b72d",
   "metadata": {},
   "outputs": [
    {
     "name": "stdout",
     "output_type": "stream",
     "text": [
      "mange\n",
      "banana\n",
      "orange\n"
     ]
    }
   ],
   "source": [
    "for i in list:\n",
    "    print(i)\n",
    "    if i== \"orange\":\n",
    "        break\n",
    "        print(\"i like that\")"
   ]
  },
  {
   "cell_type": "code",
   "execution_count": 3,
   "id": "6bc5de28-09ba-46e1-a460-cd430e08a647",
   "metadata": {},
   "outputs": [
    {
     "name": "stdout",
     "output_type": "stream",
     "text": [
      "mange\n",
      "banana\n",
      "orange\n",
      "i like that\n",
      "onion\n"
     ]
    }
   ],
   "source": [
    "for i in list:\n",
    "    print(i)\n",
    "    if i== \"orange\":\n",
    "        pass\n",
    "        print(\"i like that\")"
   ]
  },
  {
   "cell_type": "code",
   "execution_count": null,
   "id": "5c994622-2256-4b52-ac58-e8b43b5d3557",
   "metadata": {},
   "outputs": [],
   "source": []
  }
 ],
 "metadata": {
  "kernelspec": {
   "display_name": "Python 3 (ipykernel)",
   "language": "python",
   "name": "python3"
  },
  "language_info": {
   "codemirror_mode": {
    "name": "ipython",
    "version": 3
   },
   "file_extension": ".py",
   "mimetype": "text/x-python",
   "name": "python",
   "nbconvert_exporter": "python",
   "pygments_lexer": "ipython3",
   "version": "3.10.8"
  }
 },
 "nbformat": 4,
 "nbformat_minor": 5
}
