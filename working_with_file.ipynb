{
 "cells": [
  {
   "cell_type": "code",
   "execution_count": 28,
   "id": "411ea830-a129-4af7-8c83-def0746497e9",
   "metadata": {},
   "outputs": [],
   "source": [
    "f=open(\"test.txt\",'a')"
   ]
  },
  {
   "cell_type": "code",
   "execution_count": 29,
   "id": "2905080b-8176-4d70-9766-103551bd8843",
   "metadata": {},
   "outputs": [
    {
     "data": {
      "text/plain": [
       "<_io.TextIOWrapper name='test.txt' mode='a' encoding='UTF-8'>"
      ]
     },
     "execution_count": 29,
     "metadata": {},
     "output_type": "execute_result"
    }
   ],
   "source": [
    "f"
   ]
  },
  {
   "cell_type": "code",
   "execution_count": 30,
   "id": "ec177f44-8b03-4112-b0d7-2044ac8e8df5",
   "metadata": {},
   "outputs": [
    {
     "data": {
      "text/plain": [
       "'/home/jovyan/work'"
      ]
     },
     "execution_count": 30,
     "metadata": {},
     "output_type": "execute_result"
    }
   ],
   "source": [
    "pwd # present working Directory"
   ]
  },
  {
   "cell_type": "code",
   "execution_count": 31,
   "id": "d17132d4-42b3-483a-abd8-be0b8a1d28d4",
   "metadata": {},
   "outputs": [
    {
     "name": "stdout",
     "output_type": "stream",
     "text": [
      " Assignment_4feb.ipynb                sample-code.ipynb\n",
      " Class_Method.ipynb                   Static_Method.ipynb\n",
      " \u001b[0m\u001b[01;34mday2\u001b[0m/                                test.txt\n",
      " day2.ipynb                          'tuple set dict Assingment.ipynb'\n",
      " day3.ipynb                           tuples.ipynb\n",
      "'day 4 string.ipynb'                  Untitled1.ipynb\n",
      " decorators.ipynb                     Untitled2.ipynb\n",
      " Function.ipynb                       Untitled3.ipynb\n",
      " lambda1.ipynb                        Untitled4.ipynb\n",
      " Map_Reduce_Filter.ipynb             \u001b[01;34m'Untitled Folder'\u001b[0m/\n",
      " new-workspace.jupyterlab-workspace   Untitled.ipynb\n",
      " Opps.ipynb                           working_with_file.ipynb\n",
      " README.md\n"
     ]
    }
   ],
   "source": [
    "ls"
   ]
  },
  {
   "cell_type": "code",
   "execution_count": 32,
   "id": "0a6901dd-17ba-488a-92af-32d4b93487b5",
   "metadata": {},
   "outputs": [
    {
     "data": {
      "text/plain": [
       "30"
      ]
     },
     "execution_count": 32,
     "metadata": {},
     "output_type": "execute_result"
    }
   ],
   "source": [
    "f.write(\"I am the king of my own empire\")"
   ]
  },
  {
   "cell_type": "code",
   "execution_count": 33,
   "id": "3ff53be3-0cb3-4182-8e55-dfdd121707ba",
   "metadata": {},
   "outputs": [],
   "source": [
    "f.close()"
   ]
  },
  {
   "cell_type": "code",
   "execution_count": 34,
   "id": "c26fe8f5-5836-429c-84ba-6ebd9c11520c",
   "metadata": {},
   "outputs": [
    {
     "data": {
      "text/plain": [
       "<function TextIOWrapper.read(size=-1, /)>"
      ]
     },
     "execution_count": 34,
     "metadata": {},
     "output_type": "execute_result"
    }
   ],
   "source": [
    "f.read"
   ]
  },
  {
   "cell_type": "code",
   "execution_count": 17,
   "id": "7a484118-d200-4941-b5c9-9db837ac711d",
   "metadata": {},
   "outputs": [],
   "source": [
    "f=open(\"test.txt\",\"a\")"
   ]
  },
  {
   "cell_type": "code",
   "execution_count": 18,
   "id": "7d1cb45e-6e7b-48f3-ada9-1000c780d0ba",
   "metadata": {},
   "outputs": [
    {
     "data": {
      "text/plain": [
       "20"
      ]
     },
     "execution_count": 18,
     "metadata": {},
     "output_type": "execute_result"
    }
   ],
   "source": [
    "f.write(\"INDIA IS MY COUNTRAY\")"
   ]
  },
  {
   "cell_type": "code",
   "execution_count": 21,
   "id": "04cef2fb-d987-499b-afd8-f829675000f4",
   "metadata": {},
   "outputs": [],
   "source": [
    "f.close()"
   ]
  },
  {
   "cell_type": "code",
   "execution_count": 35,
   "id": "500f8552-6c8d-4b77-9110-51b00672e641",
   "metadata": {},
   "outputs": [],
   "source": [
    "data=open(\"test.txt\",\"r\")"
   ]
  },
  {
   "cell_type": "code",
   "execution_count": 36,
   "id": "470076f6-997e-407f-9073-8507f5a7a04e",
   "metadata": {},
   "outputs": [
    {
     "data": {
      "text/plain": [
       "'I am the king of my own empireINDIA IS MY COUNTRAYI am the king of my own empireI am the king of my own empire'"
      ]
     },
     "execution_count": 36,
     "metadata": {},
     "output_type": "execute_result"
    }
   ],
   "source": [
    "data.read()"
   ]
  },
  {
   "cell_type": "code",
   "execution_count": 38,
   "id": "a5b1bf5e-953b-431f-a180-2657911020f2",
   "metadata": {},
   "outputs": [
    {
     "data": {
      "text/plain": [
       "0"
      ]
     },
     "execution_count": 38,
     "metadata": {},
     "output_type": "execute_result"
    }
   ],
   "source": [
    "data.seek(0)"
   ]
  },
  {
   "cell_type": "code",
   "execution_count": 39,
   "id": "c48eb4c0-1f86-47c3-86ca-782864f200c0",
   "metadata": {},
   "outputs": [
    {
     "data": {
      "text/plain": [
       "'I am the king of my own empireINDIA IS MY COUNTRAYI am the king of my own empireI am the king of my own empire'"
      ]
     },
     "execution_count": 39,
     "metadata": {},
     "output_type": "execute_result"
    }
   ],
   "source": [
    "data.read()"
   ]
  },
  {
   "cell_type": "code",
   "execution_count": 40,
   "id": "48a70ee1-cf6d-4e5b-addc-16ac5b86ed8c",
   "metadata": {},
   "outputs": [
    {
     "data": {
      "text/plain": [
       "5"
      ]
     },
     "execution_count": 40,
     "metadata": {},
     "output_type": "execute_result"
    }
   ],
   "source": [
    "data.seek(5)"
   ]
  },
  {
   "cell_type": "code",
   "execution_count": 41,
   "id": "9c20ab09-36d8-4f4e-8316-d62dbb28eea9",
   "metadata": {},
   "outputs": [
    {
     "data": {
      "text/plain": [
       "'the king of my own empireINDIA IS MY COUNTRAYI am the king of my own empireI am the king of my own empire'"
      ]
     },
     "execution_count": 41,
     "metadata": {},
     "output_type": "execute_result"
    }
   ],
   "source": [
    "data.read()"
   ]
  },
  {
   "cell_type": "code",
   "execution_count": 52,
   "id": "63c17105-411d-4c0c-a003-f157236ab576",
   "metadata": {},
   "outputs": [
    {
     "name": "stdout",
     "output_type": "stream",
     "text": [
      "I am the king of my own empireINDIA IS MY COUNTRAYI am the king of my own empireI am the king of my own empire\n"
     ]
    }
   ],
   "source": [
    "f=open(\"test.txt\",\"r\")\n",
    "print(f.read())"
   ]
  },
  {
   "cell_type": "code",
   "execution_count": 54,
   "id": "ccf9b673-31c5-48c5-a290-f87ce6c72a3f",
   "metadata": {},
   "outputs": [],
   "source": [
    "data1=open(\"test.txt\",'r')"
   ]
  },
  {
   "cell_type": "code",
   "execution_count": 55,
   "id": "183b5e0e-34a2-4f24-a0d6-348a6971f004",
   "metadata": {},
   "outputs": [
    {
     "name": "stdout",
     "output_type": "stream",
     "text": [
      "I am the king of my own empireINDIA IS MY COUNTRAYI am the king of my own empireI am the king of my own empire\n"
     ]
    }
   ],
   "source": [
    "for i in data1:\n",
    "    print(i)"
   ]
  },
  {
   "cell_type": "code",
   "execution_count": 57,
   "id": "afe3d105-b9f5-470c-8bd3-669ee5a1164e",
   "metadata": {},
   "outputs": [
    {
     "data": {
      "text/plain": [
       "110"
      ]
     },
     "execution_count": 57,
     "metadata": {},
     "output_type": "execute_result"
    }
   ],
   "source": [
    "import os\n",
    "os.path.getsize(\"test.txt\")"
   ]
  },
  {
   "cell_type": "code",
   "execution_count": 58,
   "id": "4abc7d9b-1c2c-4804-84bd-6540ef03b1f3",
   "metadata": {},
   "outputs": [],
   "source": [
    "import shutil"
   ]
  },
  {
   "cell_type": "code",
   "execution_count": 59,
   "id": "24c04576-c86a-4eaf-b973-ca99726c14da",
   "metadata": {},
   "outputs": [
    {
     "data": {
      "text/plain": [
       "'kk.txt'"
      ]
     },
     "execution_count": 59,
     "metadata": {},
     "output_type": "execute_result"
    }
   ],
   "source": [
    "shutil.copy(\"test.txt\",\"kk.txt\")"
   ]
  },
  {
   "cell_type": "code",
   "execution_count": 60,
   "id": "da1d3da5-4385-48bb-b20d-bf714f41d4a2",
   "metadata": {},
   "outputs": [],
   "source": [
    "os.remove(\"test.txt\")"
   ]
  },
  {
   "cell_type": "code",
   "execution_count": 62,
   "id": "ade5d19d-47f1-4710-a0db-c157f9d055ae",
   "metadata": {},
   "outputs": [],
   "source": [
    "os.rename(\"kk.txt\",\"test1.txt\")"
   ]
  },
  {
   "cell_type": "code",
   "execution_count": 1,
   "id": "7ed858c4-d23c-4bba-b317-b6f806776eb1",
   "metadata": {},
   "outputs": [],
   "source": [
    "data={\"name\":\"kishor\",\n",
    "     \"mailid\":\"kk@gmail.com\",\n",
    "     \"mobile_number\":74673628,\n",
    "     \"subject\":[\"data science\",\"big data\",\"data analytics\"]}"
   ]
  },
  {
   "cell_type": "code",
   "execution_count": 2,
   "id": "e0e2ac1d-7e7a-43e9-8e9e-8956a0204d05",
   "metadata": {},
   "outputs": [
    {
     "data": {
      "text/plain": [
       "{'name': 'kishor',\n",
       " 'mailid': 'kk@gmail.com',\n",
       " 'mobile_number': 74673628,\n",
       " 'subject': ['data science', 'big data', 'data analytics']}"
      ]
     },
     "execution_count": 2,
     "metadata": {},
     "output_type": "execute_result"
    }
   ],
   "source": [
    "data"
   ]
  },
  {
   "cell_type": "code",
   "execution_count": 3,
   "id": "fc9471c9-92c9-4ede-9663-bf143eb7976e",
   "metadata": {},
   "outputs": [],
   "source": [
    "import json"
   ]
  },
  {
   "cell_type": "code",
   "execution_count": 4,
   "id": "a14a8b59-51cc-48ca-91c9-f20e271703e3",
   "metadata": {},
   "outputs": [],
   "source": [
    "with open(\"test1.json\",\"w\") as f:\n",
    "    json.dump(data,f)"
   ]
  },
  {
   "cell_type": "code",
   "execution_count": 5,
   "id": "b0043412-e446-499b-8610-6236bff74a62",
   "metadata": {},
   "outputs": [],
   "source": [
    "with open(\"test1.json\",\"r\") as f:\n",
    "    data1=json.load(f)"
   ]
  },
  {
   "cell_type": "code",
   "execution_count": 6,
   "id": "2ab521b2-cc2f-421c-bb3f-e4060e92c4b2",
   "metadata": {},
   "outputs": [
    {
     "data": {
      "text/plain": [
       "{'name': 'kishor',\n",
       " 'mailid': 'kk@gmail.com',\n",
       " 'mobile_number': 74673628,\n",
       " 'subject': ['data science', 'big data', 'data analytics']}"
      ]
     },
     "execution_count": 6,
     "metadata": {},
     "output_type": "execute_result"
    }
   ],
   "source": [
    "data1"
   ]
  },
  {
   "cell_type": "code",
   "execution_count": 7,
   "id": "1c886602-634f-4a16-b0c6-9c4a373ab61a",
   "metadata": {},
   "outputs": [
    {
     "data": {
      "text/plain": [
       "['data science', 'big data', 'data analytics']"
      ]
     },
     "execution_count": 7,
     "metadata": {},
     "output_type": "execute_result"
    }
   ],
   "source": [
    "data1['subject']"
   ]
  },
  {
   "cell_type": "code",
   "execution_count": 8,
   "id": "cc12b85d-789b-4d3c-94f6-91446e3602b7",
   "metadata": {},
   "outputs": [
    {
     "data": {
      "text/plain": [
       "'big data'"
      ]
     },
     "execution_count": 8,
     "metadata": {},
     "output_type": "execute_result"
    }
   ],
   "source": [
    "data1[\"subject\"][1]"
   ]
  },
  {
   "cell_type": "code",
   "execution_count": 14,
   "id": "e08a5826-904e-45b9-97fe-2a8c4072a17a",
   "metadata": {},
   "outputs": [],
   "source": [
    "data=[[\"name\",\"mailid\",\"number\"],\n",
    "      [\"kk\",\"kk@gmail.com\",4367265],\n",
    "     [\"pk\",\"pk@gmail.com\",69089698]\n",
    "     ]"
   ]
  },
  {
   "cell_type": "code",
   "execution_count": 15,
   "id": "01dff213-071b-4c63-b5f9-96694c499cd7",
   "metadata": {},
   "outputs": [],
   "source": [
    "import csv"
   ]
  },
  {
   "cell_type": "code",
   "execution_count": 17,
   "id": "fec3403f-7dea-4866-bb5e-84135b5ae941",
   "metadata": {},
   "outputs": [],
   "source": [
    "with open(\"test3.csv\",\"w\") as f:\n",
    "    w=csv.writer(f)\n",
    "    for i in data:\n",
    "        w.writerow(i)\n",
    "        \n",
    "    \n",
    "    "
   ]
  },
  {
   "cell_type": "code",
   "execution_count": 19,
   "id": "66db5688-4f5f-4719-afa0-f0b3921ba6c7",
   "metadata": {},
   "outputs": [
    {
     "name": "stdout",
     "output_type": "stream",
     "text": [
      "['name', 'mailid', 'number']\n",
      "['kk', 'kk@gmail.com', '4367265']\n",
      "['pk', 'pk@gmail.com', '69089698']\n"
     ]
    }
   ],
   "source": [
    "with open(\"test3.csv\",\"r\") as f:\n",
    "    read=csv.reader(f)\n",
    "    for i in read:\n",
    "        print(i)"
   ]
  },
  {
   "cell_type": "code",
   "execution_count": 20,
   "id": "3d4750f7-8ca1-45a9-9870-1880ece952e1",
   "metadata": {},
   "outputs": [],
   "source": [
    "with open(\"test4.bin\",\"wb\") as f:\n",
    "    f.write(b\"\\x01\\x02\\x03\")"
   ]
  },
  {
   "cell_type": "code",
   "execution_count": 22,
   "id": "b40fd50b-0fab-460b-aab9-b72b8372afee",
   "metadata": {},
   "outputs": [
    {
     "name": "stdout",
     "output_type": "stream",
     "text": [
      "b'\\x01\\x02\\x03'\n"
     ]
    }
   ],
   "source": [
    "with open(\"test4.bin\",\"rb\") as f:\n",
    "    print(f.read())"
   ]
  },
  {
   "cell_type": "code",
   "execution_count": null,
   "id": "c4492c68-4102-4e9b-9153-9dffc53244de",
   "metadata": {},
   "outputs": [],
   "source": []
  }
 ],
 "metadata": {
  "kernelspec": {
   "display_name": "Python 3 (ipykernel)",
   "language": "python",
   "name": "python3"
  },
  "language_info": {
   "codemirror_mode": {
    "name": "ipython",
    "version": 3
   },
   "file_extension": ".py",
   "mimetype": "text/x-python",
   "name": "python",
   "nbconvert_exporter": "python",
   "pygments_lexer": "ipython3",
   "version": "3.10.8"
  }
 },
 "nbformat": 4,
 "nbformat_minor": 5
}
